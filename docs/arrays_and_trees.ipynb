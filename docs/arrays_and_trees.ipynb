{
 "cells": [
  {
   "cell_type": "markdown",
   "metadata": {},
   "source": [
    "# `parllel`\n",
    "\n",
    "`parllel` is a modular, flexible framework for developing performant algorithms in Reinforcement Learning.\n",
    "\n",
    "Rather than being a library of algorithm implementations, it instead provides primitive types that are useful for research in RL, then makes it easier to optimize algorithms for speed. `parllel` supports recurrent agents/algorithms, visual RL, multi-agent RL, and RL on graphs/pointclouds."
   ]
  },
  {
   "cell_type": "markdown",
   "metadata": {},
   "source": [
    "## Arrays\n",
    "\n",
    "One of the most fundamental types in `parllel` is the `Array`. It's similar to a `numpy` array, but is intended for data storage rather than math operations."
   ]
  },
  {
   "cell_type": "code",
   "execution_count": null,
   "metadata": {},
   "outputs": [],
   "source": [
    "import numpy as np\n",
    "from parllel import Array\n",
    "\n",
    "array = Array(batch_shape=(5, 4), dtype=np.float32)  # use batch_shape instead of shape\n",
    "array[:] = np.arange(4)\n",
    "print(array)"
   ]
  },
  {
   "cell_type": "markdown",
   "metadata": {},
   "source": [
    "To do math operations, we can get a view as an ndarray (this operation does not copy the data)."
   ]
  },
  {
   "cell_type": "code",
   "execution_count": null,
   "metadata": {},
   "outputs": [],
   "source": [
    "ndarray = array.to_ndarray()\n",
    "print(ndarray.sum(axis=-1))"
   ]
  },
  {
   "cell_type": "markdown",
   "metadata": {},
   "source": [
    "#### padding\n",
    "In RL, we often need to save state between batches/iterations. Since this state is often associated with time (e.g. next_observation, previous_action, etc.), a convenient place to store this information is in the array itself. For this, we use the `padding` argument."
   ]
  },
  {
   "cell_type": "code",
   "execution_count": null,
   "metadata": {},
   "outputs": [],
   "source": [
    "array = Array(batch_shape=(5, 4), dtype=np.float32, padding=1)\n",
    "array[:] = np.arange(4)\n",
    "array[5] = [4, 5, 6, 7]  # note that this appears to be out of bounds!\n",
    "print(array)\n",
    "print(array[5])\n",
    "print(array[array.last + 1])\n",
    "assert array.last + 1 == 5"
   ]
  },
  {
   "cell_type": "markdown",
   "metadata": {},
   "source": [
    "The `array.last + 1` is just syntactic sugar that makes it clear we are writing beyond the end of the array.\n",
    "\n",
    "The values written into the padding are not \"visible\" to normal operations, or when converting to a numpy array. If we want to access them in the next iteration, we can call `rotate()`."
   ]
  },
  {
   "cell_type": "code",
   "execution_count": null,
   "metadata": {},
   "outputs": [],
   "source": [
    "array[...] = 0\n",
    "array.rotate()\n",
    "print(array[0])  # [4, 5, 6, 7] has been copied to the 0th position in the array"
   ]
  },
  {
   "cell_type": "markdown",
   "metadata": {},
   "source": [
    "#### full_size\n",
    "For e.g. replay buffers, we may want to allocate a lot of memory, but only a small window is visible for collecting samples from the environment. This window then slides along the entire replay buffer until its full. We do this using the `full_size` argument."
   ]
  },
  {
   "cell_type": "code",
   "execution_count": null,
   "metadata": {},
   "outputs": [],
   "source": [
    "array = Array(batch_shape=(5, 4), dtype=np.float32, full_size=10)  # replaces leading batch dimension, e.g. 5\n",
    "array[...] = 7\n",
    "array.rotate()\n",
    "array[...] = 42\n",
    "array.rotate()\n",
    "print(array)\n",
    "array.rotate()\n",
    "print(array)"
   ]
  },
  {
   "cell_type": "markdown",
   "metadata": {},
   "source": [
    "`padding` and `full_size` can be combined arbitrarily."
   ]
  },
  {
   "cell_type": "markdown",
   "metadata": {},
   "source": [
    "#### next & previous\n",
    "RL is often concerned with comparing a value to its past (or future) values. One example is a replay buffer for SAC, where we need both the observation and the next observation to compute the loss for Q-learning. Because Arrays keep track of their indices, we can conveniently access these through the `next` and `previous` attributes."
   ]
  },
  {
   "cell_type": "code",
   "execution_count": null,
   "metadata": {},
   "outputs": [],
   "source": [
    "array = Array(batch_shape=(5, 4), dtype=np.float32, padding=1)\n",
    "array[...] = np.arange(np.prod(array.shape)).reshape(array.shape)\n",
    "array[-1] = np.arange(-4, 0)\n",
    "print(array)\n",
    "print(\"previous:\\n\", array.previous)\n",
    "print(\"next:\\n\", array.next)"
   ]
  },
  {
   "cell_type": "markdown",
   "metadata": {},
   "source": [
    "This also works with slices and elements of the array, not just with the entire array."
   ]
  },
  {
   "cell_type": "code",
   "execution_count": null,
   "metadata": {},
   "outputs": [],
   "source": [
    "print(array[2])\n",
    "print(\"previous: \", array[2].previous)\n",
    "print(\"next: \", array[2].next)\n"
   ]
  },
  {
   "cell_type": "markdown",
   "metadata": {},
   "source": [
    "#### storage\n",
    "In RL, we often want to run several environments in parallel for collecting samples faster. In order to avoid copies, we can have these environments write directly to Arrays in shared memory."
   ]
  },
  {
   "cell_type": "code",
   "execution_count": null,
   "metadata": {},
   "outputs": [],
   "source": [
    "import multiprocessing as mp\n",
    "\n",
    "array = Array(batch_shape=(5, 4), dtype=np.int32, storage=\"shared\")\n",
    "\n",
    "def write_to_piped_array(pipe):\n",
    "    arr = pipe.recv()\n",
    "    arr[...] = 42\n",
    "from parllel.patterns import write_to_piped_array\n",
    "\n",
    "parent_pipe, child_pipe = mp.Pipe()\n",
    "p = mp.Process(target=write_to_piped_array, args=(child_pipe,))\n",
    "p.start()\n",
    "parent_pipe.send(array[np.array([1, 3]), np.array([0, 2])])  # unlike for ndarrays, this does not produce a copy\n",
    "p.join()\n",
    "\n",
    "print(array)\n",
    "\n",
    "# array.close()  # always close arrays allocated in shared memory"
   ]
  },
  {
   "cell_type": "code",
   "execution_count": null,
   "metadata": {},
   "outputs": [],
   "source": []
  }
 ],
 "metadata": {
  "kernelspec": {
   "display_name": "parllel",
   "language": "python",
   "name": "python3"
  },
  "language_info": {
   "codemirror_mode": {
    "name": "ipython",
    "version": 3
   },
   "file_extension": ".py",
   "mimetype": "text/x-python",
   "name": "python",
   "nbconvert_exporter": "python",
   "pygments_lexer": "ipython3",
   "version": "3.9.15"
  },
  "orig_nbformat": 4
 },
 "nbformat": 4,
 "nbformat_minor": 2
}
