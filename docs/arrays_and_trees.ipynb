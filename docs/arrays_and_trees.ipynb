{
 "cells": [
  {
   "cell_type": "markdown",
   "metadata": {},
   "source": [
    "# `parllel`\n",
    "\n",
    "`parllel` is a modular, flexible framework for developing performant algorithms in Reinforcement Learning.\n",
    "\n",
    "Rather than being a library of algorithm implementations, it instead provides primitive types that are useful for research in RL, then makes it easier to optimize algorithms for speed. `parllel` supports recurrent agents/algorithms, visual RL, multi-agent RL, and RL on graphs/pointclouds."
   ]
  },
  {
   "cell_type": "markdown",
   "metadata": {},
   "source": [
    "## Arrays\n",
    "\n",
    "One of the most fundamental types in `parllel` is the `Array`. It's similar to a `numpy` array, but is intended for data storage rather than math operations."
   ]
  },
  {
   "cell_type": "code",
   "execution_count": 6,
   "metadata": {},
   "outputs": [
    {
     "name": "stdout",
     "output_type": "stream",
     "text": [
      "Array([[0.,1.,2.,3.],\n",
      "       [0.,1.,2.,3.],\n",
      "       [0.,1.,2.,3.],\n",
      "       [0.,1.,2.,3.],\n",
      "       [0.,1.,2.,3.]], storage=local, dtype=float32, padding=0)\n"
     ]
    }
   ],
   "source": [
    "import numpy as np\n",
    "from parllel import Array\n",
    "\n",
    "array = Array(batch_shape=(5, 4), dtype=np.float32)  # use batch_shape instead of shape\n",
    "array[:] = np.arange(4)\n",
    "print(array)"
   ]
  },
  {
   "cell_type": "markdown",
   "metadata": {},
   "source": [
    "To do math operations, we can get a view as an ndarray (this operation does not copy the data)."
   ]
  },
  {
   "cell_type": "code",
   "execution_count": 7,
   "metadata": {},
   "outputs": [
    {
     "name": "stdout",
     "output_type": "stream",
     "text": [
      "[6. 6. 6. 6. 6.]\n"
     ]
    }
   ],
   "source": [
    "ndarray = array.to_ndarray()\n",
    "print(ndarray.sum(axis=-1))"
   ]
  },
  {
   "cell_type": "markdown",
   "metadata": {},
   "source": [
    "In RL, we often need to save state between batches/iterations. Since this state is often associated with time (e.g. next_observation, previous_action, etc.), a convenient place to store this information is in the array itself. For this, we use padding."
   ]
  },
  {
   "cell_type": "code",
   "execution_count": 9,
   "metadata": {},
   "outputs": [
    {
     "name": "stdout",
     "output_type": "stream",
     "text": [
      "Array([[0.,1.,2.,3.],\n",
      "       [0.,1.,2.,3.],\n",
      "       [0.,1.,2.,3.],\n",
      "       [0.,1.,2.,3.],\n",
      "       [0.,1.,2.,3.]], storage=local, dtype=float32, padding=1)\n",
      "Array([4.,5.,6.,7.], storage=local, dtype=float32, padding=1)\n",
      "Array([4.,5.,6.,7.], storage=local, dtype=float32, padding=1)\n"
     ]
    }
   ],
   "source": [
    "array = Array(batch_shape=(5, 4), dtype=np.float32, padding=1)\n",
    "array[:] = np.arange(4)\n",
    "array[5] = [4, 5, 6, 7]  # note that this appears to be out of bounds!\n",
    "print(array)\n",
    "print(array[5])\n",
    "print(array[array.last + 1])"
   ]
  },
  {
   "cell_type": "markdown",
   "metadata": {},
   "source": [
    "The `array.last + 1` is just syntactic sugar that makes it clear we are writing beyond the end of the array.\n",
    "\n",
    "The values written into the padding are not \"visible\" to normal operations, or when converting to a numpy array. If we want to access them in the next iteration, we can call `rotate()`."
   ]
  },
  {
   "cell_type": "code",
   "execution_count": 11,
   "metadata": {},
   "outputs": [
    {
     "name": "stdout",
     "output_type": "stream",
     "text": [
      "Array([4.,5.,6.,7.], storage=local, dtype=float32, padding=1)\n"
     ]
    }
   ],
   "source": [
    "array[...] = 0\n",
    "array.rotate()\n",
    "print(array[0])  # [4, 5, 6, 7] has been copied to the 0th position in the array"
   ]
  }
 ],
 "metadata": {
  "kernelspec": {
   "display_name": "parllel",
   "language": "python",
   "name": "python3"
  },
  "language_info": {
   "codemirror_mode": {
    "name": "ipython",
    "version": 3
   },
   "file_extension": ".py",
   "mimetype": "text/x-python",
   "name": "python",
   "nbconvert_exporter": "python",
   "pygments_lexer": "ipython3",
   "version": "3.9.16"
  },
  "orig_nbformat": 4
 },
 "nbformat": 4,
 "nbformat_minor": 2
}
